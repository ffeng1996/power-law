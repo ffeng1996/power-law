{
 "cells": [
  {
   "cell_type": "code",
   "execution_count": 33,
   "metadata": {
    "collapsed": false
   },
   "outputs": [],
   "source": [
    "import numpy as np\n",
    "with np.load('model/model_2_400.npz') as f:\n",
    "    param_values_dense = [f['arr_%d' % i] for i in range(len(f.files))]"
   ]
  },
  {
   "cell_type": "code",
   "execution_count": 34,
   "metadata": {
    "collapsed": false
   },
   "outputs": [
    {
     "data": {
      "text/plain": [
       "array([ 0.08016004,  0.0781657 ,  0.00840178,  0.04575942,  0.05855547,\n",
       "        0.04804476,  0.03553173, -0.06275809,  0.03311569,  0.02128227,\n",
       "       -0.03751066,  0.05202656,  0.04597738, -0.00165252, -0.00226291,\n",
       "        0.00040564,  0.01568867, -0.00517805, -0.05131012, -0.04712955,\n",
       "        0.06582776,  0.05697146,  0.0851348 ,  0.03923918,  0.04766566,\n",
       "        0.05917141,  0.05739152,  0.09725606,  0.11197681, -0.01895467,\n",
       "        0.01841903,  0.00232419,  0.00720791, -0.04271258,  0.06395657,\n",
       "        0.01793518,  0.06226201, -0.03928367,  0.02763006,  0.01612843,\n",
       "        0.000689  , -0.08128499,  0.00699285,  0.00229481,  0.06846192,\n",
       "       -0.05119831, -0.03729296,  0.02401465,  0.03853128,  0.02263863,\n",
       "        0.01720386, -0.04750223, -0.04671316,  0.03093635,  0.1272563 ,\n",
       "        0.02865132,  0.04518262, -0.01161026,  0.08549557, -0.01677597,\n",
       "        0.01321933,  0.03297561, -0.01128553,  0.03710635, -0.04727729,\n",
       "        0.00534478,  0.05226974,  0.01922146,  0.03237801,  0.05383321,\n",
       "       -0.05910744,  0.07448425,  0.02488435, -0.0115474 ,  0.01282595,\n",
       "        0.06811522,  0.03013252,  0.06224735,  0.0967746 , -0.00148792,\n",
       "        0.00289734,  0.00150689, -0.04167598, -0.02924993,  0.04660065,\n",
       "        0.07812569,  0.03844688, -0.03577995,  0.05731702,  0.06337138,\n",
       "        0.01543247,  0.03731502,  0.06754015,  0.01157213, -0.06233207,\n",
       "        0.0106751 ,  0.00589608, -0.04225386, -0.04980184,  0.02988909], dtype=float32)"
      ]
     },
     "execution_count": 34,
     "metadata": {},
     "output_type": "execute_result"
    }
   ],
   "source": [
    "param_values_dense[0][300:400,0]"
   ]
  },
  {
   "cell_type": "code",
   "execution_count": 35,
   "metadata": {
    "collapsed": false
   },
   "outputs": [],
   "source": [
    "with np.load('model/sparse_model_0.8_2_400.npz') as f:\n",
    "    param_values_sparse = [f['arr_%d' % i] for i in range(len(f.files))]"
   ]
  },
  {
   "cell_type": "code",
   "execution_count": 36,
   "metadata": {
    "collapsed": false
   },
   "outputs": [
    {
     "data": {
      "text/plain": [
       "array([ 0.13678892,  0.11673038,  0.        ,  0.        ,  0.        ,\n",
       "        0.        ,  0.        , -0.06150142,  0.        ,  0.        ,\n",
       "        0.        ,  0.        ,  0.        ,  0.        ,  0.        ,\n",
       "        0.        ,  0.        ,  0.        ,  0.        ,  0.        ,\n",
       "        0.05883121,  0.        ,  0.1131096 ,  0.        ,  0.        ,\n",
       "        0.        ,  0.        ,  0.13881306,  0.15059054,  0.        ,\n",
       "        0.        ,  0.        ,  0.        ,  0.        ,  0.06526746,\n",
       "        0.        ,  0.06226201,  0.        ,  0.        ,  0.        ,\n",
       "        0.        , -0.11017621,  0.        ,  0.        ,  0.05765713,\n",
       "        0.        ,  0.        ,  0.        ,  0.        ,  0.        ,\n",
       "        0.        ,  0.        ,  0.        ,  0.        ,  0.1711107 ,\n",
       "        0.        ,  0.        ,  0.        ,  0.10546967,  0.        ,\n",
       "        0.        ,  0.        ,  0.        ,  0.        ,  0.        ,\n",
       "        0.        ,  0.        ,  0.        ,  0.        ,  0.        ,\n",
       "        0.        ,  0.06628604,  0.        ,  0.        ,  0.        ,\n",
       "        0.08610215,  0.        ,  0.11061923,  0.11789004,  0.        ,\n",
       "        0.        ,  0.        ,  0.        ,  0.        ,  0.        ,\n",
       "        0.10487408,  0.        ,  0.        ,  0.        ,  0.06629213,\n",
       "        0.        ,  0.        ,  0.06754015,  0.        , -0.06033493,\n",
       "        0.        ,  0.        ,  0.        ,  0.        ,  0.        ], dtype=float32)"
      ]
     },
     "execution_count": 36,
     "metadata": {},
     "output_type": "execute_result"
    }
   ],
   "source": [
    "param_values_sparse[0][300:400,0]"
   ]
  },
  {
   "cell_type": "code",
   "execution_count": 37,
   "metadata": {
    "collapsed": false
   },
   "outputs": [],
   "source": [
    "with np.load('cont_model/cont_dense_model_2_400.npz') as f:\n",
    "    param_values_cont_dense = [f['arr_%d' % i] for i in range(len(f.files))]"
   ]
  },
  {
   "cell_type": "code",
   "execution_count": 38,
   "metadata": {
    "collapsed": false
   },
   "outputs": [
    {
     "data": {
      "text/plain": [
       "array([  1.36788920e-01,   1.16730385e-01,  -1.65818296e-02,\n",
       "         1.34719000e-03,   4.69601108e-03,   4.13354393e-03,\n",
       "         0.00000000e+00,  -6.15014210e-02,  -6.57660057e-05,\n",
       "        -1.49591221e-03,  -1.41050434e-03,  -2.19576177e-04,\n",
       "         0.00000000e+00,   3.44958645e-03,   3.97062948e-04,\n",
       "         1.07266453e-06,  -1.97348814e-03,  -5.68645913e-03,\n",
       "        -1.02476487e-02,   5.11777261e-03,   5.88312075e-02,\n",
       "         5.49024949e-03,   1.13109596e-01,  -4.42891987e-03,\n",
       "        -3.48019792e-04,   1.00664282e-02,   6.79133751e-04,\n",
       "         1.38813064e-01,   1.50590539e-01,   3.30261304e-03,\n",
       "         8.04870360e-05,  -8.46359879e-03,   8.26469623e-03,\n",
       "         3.08360392e-03,   6.52674586e-02,  -1.94245931e-05,\n",
       "         6.22620061e-02,  -1.43984007e-03,   0.00000000e+00,\n",
       "         5.32718041e-05,   3.98279447e-03,  -1.10176206e-01,\n",
       "         1.25439765e-04,  -6.05981390e-04,   5.76571301e-02,\n",
       "        -6.84706785e-04,  -1.65668651e-04,  -7.89640937e-03,\n",
       "        -1.96406338e-03,   7.05208629e-03,  -5.95533602e-05,\n",
       "        -6.18420960e-03,   4.64003533e-03,  -1.52866822e-03,\n",
       "         1.71110705e-01,   5.66759007e-03,   8.57403647e-05,\n",
       "         2.95929436e-04,   1.05469674e-01,   4.10037115e-03,\n",
       "         2.46358961e-02,   7.24473083e-03,   1.23840326e-03,\n",
       "         4.10932163e-03,   3.36426892e-03,   4.00722872e-10,\n",
       "        -1.98536727e-05,  -1.55394315e-03,  -2.35976279e-03,\n",
       "        -2.03844905e-02,   0.00000000e+00,   6.62860423e-02,\n",
       "         2.70022661e-03,  -1.68056897e-04,   6.25519222e-03,\n",
       "         8.61021504e-02,   5.13140403e-04,   1.10619232e-01,\n",
       "         1.17890038e-01,   6.26952096e-04,   2.61661783e-03,\n",
       "        -1.48392253e-04,  -7.00656138e-03,  -4.77467990e-03,\n",
       "         1.08359905e-04,   1.04874082e-01,  -3.55111808e-03,\n",
       "         0.00000000e+00,  -7.54632310e-07,   6.62921295e-02,\n",
       "        -3.54254116e-05,  -7.94011139e-05,   6.75401464e-02,\n",
       "        -2.25035404e-03,  -6.03349283e-02,   1.09767821e-02,\n",
       "        -2.36648601e-03,  -2.57771648e-03,   1.22127080e-04,\n",
       "        -2.55275471e-03], dtype=float32)"
      ]
     },
     "execution_count": 38,
     "metadata": {},
     "output_type": "execute_result"
    }
   ],
   "source": [
    "param_values_cont_dense[0][300:400,0]"
   ]
  },
  {
   "cell_type": "code",
   "execution_count": 39,
   "metadata": {
    "collapsed": false
   },
   "outputs": [],
   "source": [
    "with np.load('cont_model/cont_sparse_model_0.1_2_400.npz') as f:\n",
    "    param_values_cont_sparse = [f['arr_%d' % i] for i in range(len(f.files))]"
   ]
  },
  {
   "cell_type": "code",
   "execution_count": 40,
   "metadata": {
    "collapsed": false
   },
   "outputs": [
    {
     "data": {
      "text/plain": [
       "array([  1.36788920e-01,   1.16730385e-01,   7.81446230e-03,\n",
       "         0.00000000e+00,   0.00000000e+00,   0.00000000e+00,\n",
       "         0.00000000e+00,  -6.15014210e-02,   0.00000000e+00,\n",
       "         3.34517645e-05,   0.00000000e+00,   0.00000000e+00,\n",
       "         0.00000000e+00,   0.00000000e+00,   0.00000000e+00,\n",
       "         0.00000000e+00,   0.00000000e+00,   0.00000000e+00,\n",
       "         0.00000000e+00,  -1.62928551e-03,   5.88312075e-02,\n",
       "         0.00000000e+00,   1.13109596e-01,   0.00000000e+00,\n",
       "         0.00000000e+00,   0.00000000e+00,   0.00000000e+00,\n",
       "         1.38813064e-01,   1.50590539e-01,   0.00000000e+00,\n",
       "         0.00000000e+00,   7.14466022e-03,   3.21093691e-03,\n",
       "         0.00000000e+00,   6.52674586e-02,   0.00000000e+00,\n",
       "         6.22620061e-02,   0.00000000e+00,   0.00000000e+00,\n",
       "         0.00000000e+00,   0.00000000e+00,  -1.10176206e-01,\n",
       "         0.00000000e+00,  -6.15621684e-04,   5.76571301e-02,\n",
       "         0.00000000e+00,   0.00000000e+00,   0.00000000e+00,\n",
       "         0.00000000e+00,   0.00000000e+00,   0.00000000e+00,\n",
       "         0.00000000e+00,   0.00000000e+00,   0.00000000e+00,\n",
       "         1.71110705e-01,   0.00000000e+00,   0.00000000e+00,\n",
       "         0.00000000e+00,   1.05469674e-01,   0.00000000e+00,\n",
       "        -1.71051943e-03,   2.86040187e-04,   0.00000000e+00,\n",
       "         2.54870189e-04,   0.00000000e+00,   0.00000000e+00,\n",
       "         0.00000000e+00,   1.33631600e-03,  -2.09059077e-03,\n",
       "         0.00000000e+00,   0.00000000e+00,   6.62860423e-02,\n",
       "        -7.71190412e-03,   0.00000000e+00,  -6.09551556e-03,\n",
       "         8.61021504e-02,   1.52067759e-03,   1.10619232e-01,\n",
       "         1.17890038e-01,   0.00000000e+00,   0.00000000e+00,\n",
       "         0.00000000e+00,   0.00000000e+00,   0.00000000e+00,\n",
       "         0.00000000e+00,   1.04874082e-01,   0.00000000e+00,\n",
       "         0.00000000e+00,   0.00000000e+00,   6.62921295e-02,\n",
       "         0.00000000e+00,   0.00000000e+00,   6.75401464e-02,\n",
       "         0.00000000e+00,  -6.03349283e-02,   0.00000000e+00,\n",
       "         0.00000000e+00,   0.00000000e+00,   0.00000000e+00,\n",
       "         0.00000000e+00], dtype=float32)"
      ]
     },
     "execution_count": 40,
     "metadata": {},
     "output_type": "execute_result"
    }
   ],
   "source": [
    "param_values_cont_sparse[0][300:400,0]"
   ]
  },
  {
   "cell_type": "code",
   "execution_count": 41,
   "metadata": {
    "collapsed": false
   },
   "outputs": [],
   "source": [
    "np.nonzero(param_values_sparse[0])\n",
    "weight0 = param_values_sparse[0]"
   ]
  },
  {
   "cell_type": "code",
   "execution_count": 21,
   "metadata": {
    "collapsed": false
   },
   "outputs": [
    {
     "name": "stdout",
     "output_type": "stream",
     "text": [
      "[0.0, 0.0, 0.0]\n",
      "(46, 131)\n",
      "(159, 345)\n",
      "(39, 128)\n",
      "(45, 98)\n"
     ]
    }
   ],
   "source": [
    "import matplotlib.pyplot as plt\n",
    "import numpy as np\n",
    "import networkx as nx\n",
    "from argparse import ArgumentParser\n",
    "\n",
    "def plot(degree, str1, str2, str3, option):\n",
    "\tdegree_seq = degree\n",
    "\tdegree_sequence = sorted(degree_seq, reverse=True)\n",
    "\tbins = np.arange(min(degree_sequence)-0.5, max(degree_sequence)+1, 1)\n",
    "\th, bins = np.histogram(degree_sequence, density=True, bins=bins)\t\t\n",
    "\tcounts = h*len(degree_sequence)\n",
    "\n",
    "\tif option==\"ccdf\":\n",
    "\t\tcounts = np.cumsum(counts[::-1])[::-1]\n",
    "\n",
    "\tmin_xlim = np.min(degree)\n",
    "\tmax_xlim = np.max(degree)\n",
    "\tprint (np.min(degree), np.max(degree))\n",
    "\n",
    "\tp = plt.figure(figsize=(6,4), dpi=80)\n",
    "\tp3 = p.add_subplot(111)\n",
    "\tp3.set_xscale(\"log\")\n",
    "\tp3.set_yscale(\"log\")\n",
    "\tp3.set_xlim(1e0, 1e3) \n",
    "\tp3.set_ylim(1e0, 1e4) \n",
    "\tp3.set_xlabel('degree')\n",
    "\tp3.set_ylabel('counts')\n",
    "\tp3.set_title(\"log-log plot\")\n",
    "\tp3.plot(np.arange(len(counts))+np.min(degree), counts, \"o\")\n",
    "\tplt.tight_layout()\n",
    "\t# plt.subplots_adjust(top=0.9)\n",
    "\tp.savefig('figures/layer/mnist_{0}_{1}_{2}_{3}.png'.format(option, str1, str2, str3))\n",
    "\n",
    "\n",
    "def degree_plot(data,name, prune_fraction, shape_info, option):\n",
    "\n",
    "\tthres = []\n",
    "\tfor i in range(len(data)):\n",
    "\t\tdata_current = np.abs(data[i])\n",
    "\t\tvec_data = data_current.flatten()\n",
    "\t\ta = int(prune_fraction*data_current.size)\n",
    "\t\tthres.append(np.sort(vec_data)[a])\n",
    "\t\n",
    "\tprint thres\n",
    "\n",
    "\tfor i in range(len(data)):\n",
    "\t\tdata_current = np.abs(data[i])\n",
    "\t\tif i < len(data)-1:\n",
    "\t\t\tdata_next = np.abs(data[i+1])\n",
    "\t\t# this will not work when the threshold is larger than 1\n",
    "\t\tdata_current[data_current<=thres[i]] = 0\n",
    "\t\tdata_current[data_current>thres[i]] = 1\n",
    "\t\t# input nodes\n",
    "\t\tif i < 1:\n",
    "\t\t\tfirst_degree = np.sum(data_current,axis = 1).astype(int)\n",
    "\t\t\tplot(first_degree.tolist(), name, str(i), str(prune_fraction).split('.')[1], option)\n",
    "\t\t# hidden nodes \n",
    "\t\tif len(data_current.shape)>2:\n",
    "\t\t\tcurrent_degree = np.sum(data_current,axis=(1,2,3)).astype(int)\n",
    "\t\t\tcurrent_degree = current_degree*shape_info[i][2]* shape_info[i][3] \n",
    "\t\telse:\n",
    "\t\t\tcurrent_degree = np.sum(data_current,axis=0).astype(int)   ### axis is different from vgg_s\n",
    "\t\t\n",
    "\t\tif i < len(data)-1 and len(data_current.shape)==len(data_next.shape): ## neglect the conv_fc connection layer nodes\n",
    "\t\t\tdata_next[data_next<=thres[i+1]] = 0\n",
    "\t\t\tdata_next[data_next>thres[i+1]] = 1\n",
    "\t\t\tif len(data_next.shape)>2 :\n",
    "\t\t\t\tnext_degree = np.sum(data_next, axis=(0,2,3)).astype(int)\n",
    "\t\t\t\tnext_degree = next_degree*shape_info[i+1][2]*shape_info[i+1][3]\n",
    "\t\t\telse:\n",
    "\t\t\t\tnext_degree = np.sum(data_next,axis=1).astype(int)\t\t\t\t\t\t\n",
    "\t\t\tcurrent_degree = current_degree+next_degree\n",
    "\t\t\t#############################################\n",
    "\t\t\tcurrent_degree = current_degree[np.nonzero(current_degree)]\n",
    "\t\t\t##############################################\n",
    "\t\tplot(current_degree.tolist(), name, str(i+1), str(prune_fraction).split('.')[1], option)\n",
    "\n",
    "def main(filename, option, threshold, hidden_units):\n",
    "    with np.load(filename) as f:\n",
    "        param_values_sparse = [f['arr_%d' % i] for i in range(len(f.files))]\n",
    "\n",
    "    shape_info = []\n",
    "    for i in param_values_sparse:\n",
    "        shape_info.append(i.shape)\n",
    "\n",
    "    degree_plot([param_values_sparse[0], param_values_sparse[2], param_values_sparse[4]],\n",
    "                str(hidden_units), threshold, shape_info, option)    "
   ]
  },
  {
   "cell_type": "code",
   "execution_count": 67,
   "metadata": {
    "collapsed": false
   },
   "outputs": [
    {
     "name": "stdout",
     "output_type": "stream",
     "text": [
      "[0.0, 0.0, 0.0]\n",
      "(46, 131)\n",
      "(159, 345)\n",
      "(39, 128)\n",
      "(45, 98)\n",
      "[0.0, 0.0, 0.0]\n",
      "(46, 131)\n",
      "(159, 345)\n",
      "(39, 128)\n",
      "(45, 98)\n",
      "[0.0, 0.0, 0.0]\n",
      "(46, 220)\n",
      "(171, 579)\n",
      "(39, 236)\n",
      "(76, 144)\n",
      "[0.0, 0.0, 0.0]\n",
      "(46, 220)\n",
      "(171, 579)\n",
      "(39, 236)\n",
      "(76, 144)\n"
     ]
    }
   ],
   "source": [
    "main('model/sparse_model_0.8_2_400.npz', 'orig', 0.0, 400)\n",
    "main('model/sparse_model_0.8_2_400.npz', 'ccdf', 0.0, 400)\n",
    "main('cont_model/cont_sparse_model_0.1_2_400.npz', 'orig', 0.0, 400)\n",
    "main('cont_model/cont_sparse_model_0.1_2_400.npz', 'ccdf', 0.0, 400)"
   ]
  },
  {
   "cell_type": "code",
   "execution_count": 82,
   "metadata": {
    "collapsed": false
   },
   "outputs": [],
   "source": [
    "def degree_calculation(data):\n",
    "    degree = []\n",
    "    for i in range(len(data)):\n",
    "        data_current = np.abs(data[i])\n",
    "        if i < len(data)-1:\n",
    "            data_next = np.abs(data[i+1])\n",
    "        \n",
    "        data_current[data_current > 0.0] = 1\n",
    "        # input nodes\n",
    "        if i < 1:\n",
    "            first_degree = np.sum(data_current,axis = 1).astype(int)\n",
    "            degree = degree + first_degree.tolist()\n",
    "        # hidden nodes \n",
    "        current_degree = np.sum(data_current,axis=0).astype(int)  \n",
    "        if i < len(data)-1 and len(data_current.shape)==len(data_next.shape):\n",
    "            data_next[data_next>0.0] = 1\n",
    "            next_degree = np.sum(data_next,axis=1).astype(int)\n",
    "            current_degree = current_degree+next_degree\n",
    "        \n",
    "        degree = degree + current_degree.tolist()\n",
    "        \n",
    "    return degree"
   ]
  },
  {
   "cell_type": "code",
   "execution_count": 129,
   "metadata": {
    "collapsed": false
   },
   "outputs": [
    {
     "name": "stderr",
     "output_type": "stream",
     "text": [
      "/usr/local/lib/python2.7/dist-packages/ipykernel/__main__.py:10: RuntimeWarning: invalid value encountered in divide\n"
     ]
    }
   ],
   "source": [
    "-"
   ]
  },
  {
   "cell_type": "code",
   "execution_count": 161,
   "metadata": {
    "collapsed": true
   },
   "outputs": [],
   "source": [
    "plt.show()"
   ]
  },
  {
   "cell_type": "code",
   "execution_count": null,
   "metadata": {
    "collapsed": true
   },
   "outputs": [],
   "source": []
  }
 ],
 "metadata": {
  "kernelspec": {
   "display_name": "Python 2",
   "language": "python",
   "name": "python2"
  },
  "language_info": {
   "codemirror_mode": {
    "name": "ipython",
    "version": 2
   },
   "file_extension": ".py",
   "mimetype": "text/x-python",
   "name": "python",
   "nbconvert_exporter": "python",
   "pygments_lexer": "ipython2",
   "version": "2.7.6"
  }
 },
 "nbformat": 4,
 "nbformat_minor": 0
}
