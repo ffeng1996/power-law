{
 "cells": [
  {
   "cell_type": "code",
   "execution_count": 4,
   "metadata": {
    "collapsed": false
   },
   "outputs": [],
   "source": [
    "import matplotlib.pyplot as plt\n",
    "import numpy as np\n",
    "import networkx as nx\n",
    "%matplotlib inline\n",
    "\n",
    "# download the model\n",
    "# !wget https://s3.amazonaws.com/lasagne/recipes/pretrained/imagenet/vgg_cnn_s.pkl"
   ]
  },
  {
   "cell_type": "code",
   "execution_count": 5,
   "metadata": {
    "collapsed": false
   },
   "outputs": [],
   "source": [
    "import lasagne\n",
    "from lasagne.layers import InputLayer, DenseLayer, DropoutLayer\n",
    "from lasagne.layers.dnn import Conv2DDNNLayer as ConvLayer\n",
    "from lasagne.layers import MaxPool2DLayer as PoolLayer\n",
    "from lasagne.layers import LocalResponseNormalization2DLayer as NormLayer\n",
    "from lasagne.utils import floatX"
   ]
  },
  {
   "cell_type": "code",
   "execution_count": 6,
   "metadata": {
    "collapsed": true
   },
   "outputs": [],
   "source": [
    "# define network structure\n",
    "net = {}\n",
    "net['input'] = InputLayer((None, 3, 224, 224))\n",
    "net['conv1'] = ConvLayer(net['input'], num_filters=96, filter_size=7, stride=2, flip_filters=False)\n",
    "net['norm1'] = NormLayer(net['conv1'], alpha=0.0001) # caffe has alpha = alpha * pool_size\n",
    "net['pool1'] = PoolLayer(net['norm1'], pool_size=3, stride=3, ignore_border=False)\n",
    "net['conv2'] = ConvLayer(net['pool1'], num_filters=256, filter_size=5, flip_filters=False)\n",
    "net['pool2'] = PoolLayer(net['conv2'], pool_size=2, stride=2, ignore_border=False)\n",
    "net['conv3'] = ConvLayer(net['pool2'], num_filters=512, filter_size=3, pad=1, flip_filters=False)\n",
    "net['conv4'] = ConvLayer(net['conv3'], num_filters=512, filter_size=3, pad=1, flip_filters=False)\n",
    "net['conv5'] = ConvLayer(net['conv4'], num_filters=512, filter_size=3, pad=1, flip_filters=False)\n",
    "net['pool5'] = PoolLayer(net['conv5'], pool_size=3, stride=3, ignore_border=False)\n",
    "net['fc6'] = DenseLayer(net['pool5'], num_units=4096)\n",
    "net['drop6'] = DropoutLayer(net['fc6'], p=0.5)\n",
    "net['fc7'] = DenseLayer(net['drop6'], num_units=4096)\n",
    "net['drop7'] = DropoutLayer(net['fc7'], p=0.5)\n",
    "net['fc8'] = DenseLayer(net['drop7'], num_units=1000, nonlinearity=lasagne.nonlinearities.softmax)\n",
    "output_layer = net['fc8']"
   ]
  },
  {
   "cell_type": "code",
   "execution_count": 9,
   "metadata": {
    "collapsed": false
   },
   "outputs": [],
   "source": [
    "# laod model params and meta data\n",
    "import pickle\n",
    "\n",
    "model = pickle.load(open('vgg_cnn_s.pkl'))\n",
    "CLASSES = model['synset words']\n",
    "MEAN_IMAGE = model['mean image']\n",
    "\n",
    "lasagne.layers.set_all_param_values(output_layer, model['values'])"
   ]
  },
  {
   "cell_type": "code",
   "execution_count": 130,
   "metadata": {
    "collapsed": false
   },
   "outputs": [],
   "source": [
    "def degree_plot_fc(data,name):\n",
    "    ## load weight matrix\n",
    "    # data = np.loadtxt('512/weight_0.txt')  # load all the edges, which is saved in facebook_combined.txt file\n",
    "    # normalize the data to [0,1]\n",
    "    data = np.abs(data)\n",
    "    data_normalized = (data - data.min())/data.ptp()\n",
    "    # data_normalized\n",
    "\n",
    "    vec_data = data_normalized.flatten()\n",
    "    a = int(0.99*data.size)\n",
    "    print a\n",
    "    thres = np.sort(vec_data)[a]\n",
    "    print thres\n",
    "\n",
    "    # binarize the weight matrix using a threshold\n",
    "    # thres = 0.35\n",
    "    data_normalized[data_normalized > thres] = 1\n",
    "    data_normalized[data_normalized<=thres] = 0\n",
    "\n",
    "    # create edge list\n",
    "    edge_list= []\n",
    "    data_normalized = data_normalized.astype(int)\n",
    "    # create edge list\n",
    "    for i in range(data.shape[0]):\n",
    "        for j in range(data.shape[1]):\n",
    "            if data_normalized[i,j] == 1:\n",
    "                edge_list.append((i,j+data.shape[0]))\n",
    "\n",
    "    # create the graph\n",
    "    G = nx.Graph(edge_list)  # generate the facebook graph\n",
    "\n",
    "    ################### if use all the nodes in one layer###################\n",
    "    degree_seq = nx.degree(G).values()\n",
    "    ################### if use only the target nodes in one layer###################\n",
    "    # nx.degree(G).items()[0][1]\n",
    "    # dest = filter(lambda x: x[0] > data.shape[0], nx.degree(G).items())\n",
    "    # degree_seq = sorted([j for i,j in dest])\n",
    "\n",
    "\n",
    "    degree_sequence = sorted(degree_seq, reverse=True)\n",
    "    bins = np.arange(min(degree_sequence)-0.5, max(degree_sequence)+1, 1)\n",
    "    h, bins = np.histogram(degree_sequence, density=True, bins=bins)\n",
    "\n",
    "    counts = h*len(degree_sequence)\n",
    "    p = plt.figure(figsize=(6,4), dpi=80)\n",
    "    p3 = p.add_subplot(111)\n",
    "    p3.set_xscale(\"log\")\n",
    "    p3.set_yscale(\"log\")\n",
    "    p3.set_xlim(1e0, 1e4) \n",
    "    p3.set_ylim(1e0, 1e4) \n",
    "    p3.set_xlabel('degree')\n",
    "    p3.set_ylabel('counts')\n",
    "    p3.set_title(\"log-log plot\")\n",
    "    p3.plot(np.arange(len(counts)), counts, \"o-\")\n",
    "    plt.tight_layout()\n",
    "    # plt.subplots_adjust(top=0.9)\n",
    "    p.savefig('imagenet_vgg16_{0}.png'.format(name))\n",
    "\n",
    "\n"
   ]
  },
  {
   "cell_type": "code",
   "execution_count": 131,
   "metadata": {
    "collapsed": true
   },
   "outputs": [],
   "source": [
    "def degree_plot_conv(data,name):\n",
    "    ## load weight matrix\n",
    "    # data = np.loadtxt('512/weight_0.txt')  # load all the edges, which is saved in facebook_combined.txt file\n",
    "    # normalize the data to [0,1]\n",
    "    data = np.abs(data)\n",
    "    data_normalized = (data - data.min())/data.ptp()\n",
    "    # data_normalized\n",
    "    print data_normalized.max(), data_normalized.min()\n",
    "\n",
    "    vec_data = data_normalized.flatten()\n",
    "    a = int(0.8*data.size)\n",
    "    print a\n",
    "    thres = np.sort(vec_data)[a]\n",
    "    print thres\n",
    "\n",
    "    # binarize the weight matrix using a threshold\n",
    "    # thres = 0.35\n",
    "    data_normalized[data_normalized > thres] = 1\n",
    "    data_normalized[data_normalized<=thres] = 0\n",
    "\n",
    "\n",
    "\n",
    "    # count the degree of each neuron \n",
    "    degree =  np.sum(data_normalized,axis=(1,2,3)).astype('int')\n",
    "#     print degree_seq.shape\n",
    "#     print degree_seq\n",
    "    degree_seq = degree.tolist()\n",
    "    print degree_seq\n",
    "\n",
    "\n",
    "\n",
    "    degree_sequence = sorted(degree_seq, reverse=True)\n",
    "    bins = np.arange(min(degree_sequence)-0.5, max(degree_sequence)+1, 1)\n",
    "    h, bins = np.histogram(degree_sequence, density=True, bins=bins)\n",
    "\n",
    "    counts = h*len(degree_sequence)\n",
    "    p = plt.figure(figsize=(6,4), dpi=80)\n",
    "    p3 = p.add_subplot(111)\n",
    "    p3.set_xscale(\"log\")\n",
    "    p3.set_yscale(\"log\")\n",
    "    p3.set_xlim(1e0, 1e4) \n",
    "    p3.set_ylim(1e0, 1e4) \n",
    "    p3.set_xlabel('degree')\n",
    "    p3.set_ylabel('counts')\n",
    "    p3.set_title(\"log-log plot\")\n",
    "    p3.plot(np.arange(len(counts)), counts, \"o-\")\n",
    "    plt.tight_layout()\n",
    "    # plt.subplots_adjust(top=0.9)\n",
    "    p.savefig('imagenet_vgg16_{0}.png'.format(name))\n",
    "\n",
    "\n"
   ]
  },
  {
   "cell_type": "code",
   "execution_count": 132,
   "metadata": {
    "collapsed": false
   },
   "outputs": [
    {
     "name": "stdout",
     "output_type": "stream",
     "text": [
      "(96, 3, 7, 7)\n",
      "(96,)\n",
      "(256, 96, 5, 5)\n",
      "(256,)\n",
      "(512, 256, 3, 3)\n",
      "(512,)\n",
      "(512, 512, 3, 3)\n",
      "(512,)\n",
      "(512, 512, 3, 3)\n",
      "(512,)\n",
      "(18432, 4096)\n",
      "(4096,)\n",
      "(4096, 4096)\n",
      "(4096,)\n",
      "(4096, 1000)\n",
      "(1000,)\n"
     ]
    }
   ],
   "source": [
    "a = lasagne.layers.get_all_param_values(output_layer)\n",
    "name='conv1'\n",
    "# degree_plot(a, name)\n",
    "for i,value in enumerate(a):\n",
    "    print value.shape"
   ]
  },
  {
   "cell_type": "code",
   "execution_count": 133,
   "metadata": {
    "collapsed": false
   },
   "outputs": [
    {
     "name": "stdout",
     "output_type": "stream",
     "text": [
      "75119984\n",
      "0.16999\n"
     ]
    },
    {
     "data": {
      "image/png": "[encoded data removed]",
      "text/plain": [
       "<matplotlib.figure.Figure at 0x7fc7acbaf210>"
      ]
     },
     "metadata": {},
     "output_type": "display_data"
    }
   ],
   "source": [
    "degree_plot_fc(a[10],'fc1')\n",
    "names = ['conv1','conv2','conv3','conv4', 'conv5', 'fc1','fc2', 'fc3']\n",
    "# convolutional layers\n",
    "\n",
    "\n",
    "# fully connected layers"
   ]
  },
  {
   "cell_type": "code",
   "execution_count": null,
   "metadata": {
    "collapsed": true
   },
   "outputs": [],
   "source": []
  }
 ],
 "metadata": {
  "kernelspec": {
   "display_name": "Python 2",
   "language": "python",
   "name": "python2"
  },
  "language_info": {
   "codemirror_mode": {
    "name": "ipython",
    "version": 2
   },
   "file_extension": ".py",
   "mimetype": "text/x-python",
   "name": "python",
   "nbconvert_exporter": "python",
   "pygments_lexer": "ipython2",
   "version": "2.7.6"
  }
 },
 "nbformat": 4,
 "nbformat_minor": 0
}
